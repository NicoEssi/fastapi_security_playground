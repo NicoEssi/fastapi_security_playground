{
 "cells": [
  {
   "cell_type": "code",
   "execution_count": 6,
   "metadata": {},
   "outputs": [],
   "source": [
    "from datetime import date\n",
    "from pydantic import BaseModel\n",
    "import json"
   ]
  },
  {
   "cell_type": "code",
   "execution_count": 4,
   "metadata": {},
   "outputs": [
    {
     "name": "stdout",
     "output_type": "stream",
     "text": [
      "{'id': 4, 'name': 'Mary', 'joined': datetime.date(2018, 11, 30)}\n"
     ]
    }
   ],
   "source": [
    "# A Pydantic model\n",
    "class User(BaseModel):\n",
    "    id: int\n",
    "    name: str\n",
    "    joined: date\n",
    "\n",
    "my_user: User = User(id=3, name=\"John Doe\", joined=\"2018-07-19\")\n",
    "\n",
    "second_user_data = {\n",
    "    \"id\": 4,\n",
    "    \"name\": \"Mary\",\n",
    "    \"joined\": \"2018-11-30\",\n",
    "}\n",
    "\n",
    "my_second_user: User = User(**second_user_data)\n",
    "\n",
    "print(my_second_user.model_dump())"
   ]
  }
 ],
 "metadata": {
  "kernelspec": {
   "display_name": ".venv",
   "language": "python",
   "name": "python3"
  },
  "language_info": {
   "codemirror_mode": {
    "name": "ipython",
    "version": 3
   },
   "file_extension": ".py",
   "mimetype": "text/x-python",
   "name": "python",
   "nbconvert_exporter": "python",
   "pygments_lexer": "ipython3",
   "version": "3.9.6"
  },
  "orig_nbformat": 4
 },
 "nbformat": 4,
 "nbformat_minor": 2
}
